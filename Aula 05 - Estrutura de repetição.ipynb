{
 "cells": [
  {
   "cell_type": "markdown",
   "metadata": {},
   "source": [
    "### Loop FOR\n",
    "\n",
    "A estrutura de repetição for pode atuar sobre itens de qualquer tipo de sequência (lista ou string) na ordem em que aparecem."
   ]
  },
  {
   "cell_type": "code",
   "execution_count": 3,
   "metadata": {},
   "outputs": [
    {
     "name": "stdout",
     "output_type": "stream",
     "text": [
      "Abacaxi\n",
      "Abacate\n",
      "Laranja\n"
     ]
    }
   ],
   "source": [
    "frutas = ['Abacaxi', 'Abacate', 'Laranja']\n",
    "\n",
    "for fruta in frutas:\n",
    "    print(fruta)"
   ]
  },
  {
   "cell_type": "markdown",
   "metadata": {},
   "source": [
    "### FOR e CONDICIONAL"
   ]
  },
  {
   "cell_type": "code",
   "execution_count": 11,
   "metadata": {},
   "outputs": [
    {
     "name": "stdout",
     "output_type": "stream",
     "text": [
      "Abacaxi\n",
      "Abacate\n"
     ]
    }
   ],
   "source": [
    "frutas = ['Abacaxi', 'Abacate', 'Laranja']\n",
    "\n",
    "for fruta in frutas:\n",
    "    if fruta.startswith('A'):\n",
    "        print(fruta)"
   ]
  },
  {
   "cell_type": "markdown",
   "metadata": {},
   "source": [
    "### FOR ACUMULADOR"
   ]
  },
  {
   "cell_type": "code",
   "execution_count": 24,
   "metadata": {},
   "outputs": [
    {
     "name": "stdout",
     "output_type": "stream",
     "text": [
      "1\n",
      "3\n",
      "6\n",
      "10\n",
      "15\n",
      "21\n",
      "28\n",
      "36\n",
      "45\n",
      "55\n"
     ]
    }
   ],
   "source": [
    "ListaNumeros = [1,2,3,4,5,6,7,8,9,10]\n",
    "\n",
    "soma = 0\n",
    "\n",
    "for X in ListaNumeros:\n",
    "    soma = soma + X\n",
    "    print(soma)"
   ]
  },
  {
   "cell_type": "markdown",
   "metadata": {},
   "source": [
    "### Lista de Exercícios 03\n",
    "\n",
    "Exercício 06\n",
    "\n",
    "Faça um programa que imprima na tela os números de 1 a 20, um abaixo\n",
    "do outro. Depois modifique o programa para que ele mostre os números um ao lado do\n",
    "outro."
   ]
  },
  {
   "cell_type": "code",
   "execution_count": 46,
   "metadata": {},
   "outputs": [
    {
     "name": "stdout",
     "output_type": "stream",
     "text": [
      "1\n",
      "2\n",
      "3\n",
      "4\n",
      "5\n",
      "6\n",
      "7\n",
      "8\n",
      "9\n",
      "10\n",
      "11\n",
      "12\n",
      "13\n",
      "14\n",
      "15\n",
      "16\n",
      "17\n",
      "18\n",
      "19\n",
      "20\n",
      "[1, 2, 3, 4, 5, 6, 7, 8, 9, 10, 11, 12, 13, 14, 15, 16, 17, 18, 19, 20]\n"
     ]
    }
   ],
   "source": [
    "ListaNumeros = range(1,21)\n",
    "\n",
    "lista = []\n",
    "\n",
    "for X in ListaNumeros:\n",
    "    print(X)\n",
    "\n",
    "    lista.append(X)\n",
    "print(lista)\n"
   ]
  },
  {
   "cell_type": "markdown",
   "metadata": {},
   "source": [
    "Exercício 07 \n",
    "\n",
    "Faça um programa que leia 5 números e informe o maior número."
   ]
  },
  {
   "cell_type": "code",
   "execution_count": 58,
   "metadata": {},
   "outputs": [
    {
     "name": "stdout",
     "output_type": "stream",
     "text": [
      "[1, 2, 3, 4, 5]\n"
     ]
    },
    {
     "data": {
      "text/plain": [
       "5"
      ]
     },
     "execution_count": 58,
     "metadata": {},
     "output_type": "execute_result"
    }
   ],
   "source": [
    "lista = range(1,6)\n",
    "listavaz = []\n",
    "\n",
    "for X in lista:\n",
    "    Num = int(input('informe um valor'))\n",
    "    listavaz.append(Num)\n",
    "\n",
    "print(listavaz)\n",
    "\n",
    "max(listavaz)\n",
    "\n"
   ]
  },
  {
   "cell_type": "markdown",
   "metadata": {},
   "source": [
    "Exercício 08\n",
    "\n",
    "Faça um programa que leia 5 números e informe a soma e a média dos\n",
    "números."
   ]
  },
  {
   "cell_type": "code",
   "execution_count": 74,
   "metadata": {},
   "outputs": [
    {
     "name": "stdout",
     "output_type": "stream",
     "text": [
      "Os valores são: [1, 2, 3, 4, 5]\n",
      "A soma dos valores é: 15\n",
      "A média dos valores é: 3.0\n"
     ]
    }
   ],
   "source": [
    "lista = range(1,6)\n",
    "listavaz = []\n",
    "\n",
    "for X in lista:\n",
    "    Num = int(input('informe um valor'))\n",
    "    listavaz.append(Num)\n",
    "\n",
    "print(f'Os valores são:', listavaz)\n",
    "\n",
    "print(f'A soma dos valores é:', sum(listavaz))\n",
    "\n",
    "print(f'A média dos valores é:', sum(listavaz)/len(listavaz))"
   ]
  },
  {
   "cell_type": "markdown",
   "metadata": {},
   "source": [
    "Exercício 09\n",
    "\n",
    "Faça um programa que imprima na tela apenas os números ímpares\n",
    "entre 1 e 50."
   ]
  },
  {
   "cell_type": "code",
   "execution_count": 93,
   "metadata": {},
   "outputs": [
    {
     "name": "stdout",
     "output_type": "stream",
     "text": [
      "[1, 3, 5, 7, 9, 11, 13, 15, 17, 19, 21, 23, 25, 27, 29, 31, 33, 35, 37, 39, 41, 43, 45, 47, 49]\n"
     ]
    }
   ],
   "source": [
    "lista = range(1,51)\n",
    "listaimpar = []\n",
    "\n",
    "for X in lista:\n",
    "    if X % 2 != 0:\n",
    "        listaimpar.append(X)\n",
    "print(listaimpar)"
   ]
  },
  {
   "cell_type": "markdown",
   "metadata": {},
   "source": [
    "Exercício 10\n",
    "\n",
    "Faça um programa que receba dois números inteiros e gere os números\n",
    "inteiros que estão no intervalo compreendido por eles."
   ]
  },
  {
   "cell_type": "code",
   "execution_count": 98,
   "metadata": {},
   "outputs": [
    {
     "name": "stdout",
     "output_type": "stream",
     "text": [
      "[10, 11, 12, 13, 14, 15, 16, 17, 18, 19, 20, 21, 22, 23, 24, 25, 26, 27, 28, 29, 30]\n"
     ]
    }
   ],
   "source": [
    "n1 = int(input('Digite o primeiro valor'))\n",
    "n2 = int(input('Digite o segundo valor'))\n",
    "\n",
    "lista = range(n1,(n2+1))\n",
    "listaa = []\n",
    "\n",
    "for X in lista:\n",
    "    listaa.append(X)\n",
    "print(listaa)"
   ]
  },
  {
   "cell_type": "markdown",
   "metadata": {},
   "source": [
    "Exercício 11\n",
    "\n",
    "Altere o programa anterior para mostrar no final a soma dos números."
   ]
  },
  {
   "cell_type": "code",
   "execution_count": 99,
   "metadata": {},
   "outputs": [
    {
     "name": "stdout",
     "output_type": "stream",
     "text": [
      "[1, 2, 3, 4, 5, 6, 7, 8, 9, 10]\n",
      "55\n"
     ]
    }
   ],
   "source": [
    "n1 = int(input('Digite o primeiro valor'))\n",
    "n2 = int(input('Digite o segundo valor'))\n",
    "\n",
    "lista = range(n1,(n2+1))\n",
    "listaa = []\n",
    "\n",
    "for X in lista:\n",
    "    listaa.append(X)\n",
    "print(listaa)\n",
    "print(sum(listaa))"
   ]
  },
  {
   "cell_type": "markdown",
   "metadata": {},
   "source": [
    "Exercício 12\n",
    "\n",
    "Desenvolva um gerador de tabuada, capaz de gerar a tabuada de\n",
    "qualquer número inteiro entre 1 a 10. O usuário deve informar de qual numero ele deseja\n",
    "ver a tabuada. A saída deve ser conforme o exemplo abaixo:"
   ]
  },
  {
   "cell_type": "code",
   "execution_count": 6,
   "metadata": {},
   "outputs": [
    {
     "name": "stdout",
     "output_type": "stream",
     "text": [
      "Tabuada indisponivel\n"
     ]
    },
    {
     "ename": "SystemExit",
     "evalue": "",
     "output_type": "error",
     "traceback": [
      "An exception has occurred, use %tb to see the full traceback.\n",
      "\u001b[1;31mSystemExit\u001b[0m\n"
     ]
    },
    {
     "name": "stderr",
     "output_type": "stream",
     "text": [
      "c:\\ProgramData\\anaconda3\\lib\\site-packages\\IPython\\core\\interactiveshell.py:3468: UserWarning: To exit: use 'exit', 'quit', or Ctrl-D.\n",
      "  warn(\"To exit: use 'exit', 'quit', or Ctrl-D.\", stacklevel=1)\n"
     ]
    }
   ],
   "source": [
    "import sys\n",
    "n = int(input('Digite o primeiro valor'))\n",
    "tabuada = range(1,11)\n",
    "\n",
    "if n < 1 or n > 10:\n",
    "    print('Tabuada indisponivel')\n",
    "    sys.exit()\n",
    "else:\n",
    "    print()   \n",
    "\n",
    "for X in tabuada:\n",
    "    print(f'{n}*{X}=',n*X)"
   ]
  },
  {
   "cell_type": "markdown",
   "metadata": {},
   "source": [
    "### Loop While\n",
    "\n",
    "A estrutura de repetição while é utilizada quando precisamos repetir uma ação algumas vezes ou fazer uma interação até que uma condição seja satisfeita."
   ]
  },
  {
   "cell_type": "code",
   "execution_count": null,
   "metadata": {},
   "outputs": [],
   "source": [
    "i = 1\n",
    "soma = 0\n",
    "\n",
    "while i <= 10\n",
    "    soma += 1\n",
    "    i += 1\n",
    "    "
   ]
  }
 ],
 "metadata": {
  "kernelspec": {
   "display_name": "base",
   "language": "python",
   "name": "python3"
  },
  "language_info": {
   "codemirror_mode": {
    "name": "ipython",
    "version": 3
   },
   "file_extension": ".py",
   "mimetype": "text/x-python",
   "name": "python",
   "nbconvert_exporter": "python",
   "pygments_lexer": "ipython3",
   "version": "3.10.9"
  }
 },
 "nbformat": 4,
 "nbformat_minor": 2
}
