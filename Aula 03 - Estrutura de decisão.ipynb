{
 "cells": [
  {
   "cell_type": "markdown",
   "metadata": {},
   "source": [
    "### Aula 03"
   ]
  },
  {
   "cell_type": "markdown",
   "metadata": {},
   "source": [
    "### Exercício 03\n",
    "\n",
    "Crie duas variáveis, \"nota1\" e \"nota2\", e atribua valores numéricos a elas.\n",
    "Verifique se a média das notas é maior ou igual a 7 e imprima \"Aprovado\" ou\n",
    "\"Reprovado\" de acordo com a condição."
   ]
  },
  {
   "cell_type": "code",
   "execution_count": 13,
   "metadata": {},
   "outputs": [
    {
     "name": "stdout",
     "output_type": "stream",
     "text": [
      "A média é: 8.0\n",
      "Aprovado\n"
     ]
    }
   ],
   "source": [
    "# Solicitando a inserção das notas\n",
    "\n",
    "nota01 = float(input(\"Digite a nota da primiera prova\"))\n",
    "nota02 = float(input(\"Digite a nota da segunda prova\"))\n",
    "\n",
    "# Calculo da média das notas\n",
    "\n",
    "media = (nota01 + nota02) / 2\n",
    "print('A média é:', media)\n",
    "\n",
    "if media >= 7:\n",
    "    print(\"Aprovado\")\n",
    "\n",
    "else:\n",
    "    print(\"Reprovado\")\n"
   ]
  },
  {
   "cell_type": "markdown",
   "metadata": {},
   "source": [
    "### Exercício 04\n",
    "Crie uma variável chamada \"idade\" e atribua um valor inteiro a ela.\n",
    "Verifique se a idade está dentro do intervalo de 18 a 30 (inclusive) e imprima a\n",
    "mensagem \"Idade válida\" ou \"Idade inválida\" de acordo com a condição."
   ]
  },
  {
   "cell_type": "code",
   "execution_count": 17,
   "metadata": {},
   "outputs": [
    {
     "name": "stdout",
     "output_type": "stream",
     "text": [
      "Idade válida\n"
     ]
    }
   ],
   "source": [
    "idade = float(input('Informe a idade'))\n",
    "\n",
    "if idade >= 18 and idade <= 30:\n",
    "    print('Idade válida')\n",
    "else:\n",
    "    print('Idade inválida')"
   ]
  },
  {
   "cell_type": "markdown",
   "metadata": {},
   "source": [
    "### Exercício 05\n",
    "Crie uma variável chamada \"numero\" e atribua um valor inteiro a ela.\n",
    "Verifique se o número é par ou ímpar e imprima a mensagem correspondente."
   ]
  },
  {
   "cell_type": "code",
   "execution_count": 24,
   "metadata": {},
   "outputs": [
    {
     "name": "stdout",
     "output_type": "stream",
     "text": [
      "par: 10\n"
     ]
    }
   ],
   "source": [
    "numero = int(input(\"digite o numero\"))\n",
    "\n",
    "resto = numero % 2\n",
    "\n",
    "if resto == 0:\n",
    "    print(\"par:\",numero)\n",
    "else:\n",
    "    print(\"impar:\",numero)\n"
   ]
  },
  {
   "cell_type": "markdown",
   "metadata": {},
   "source": [
    "### Exercício 06\n",
    "Crie uma variável chamada \"horario\" e atribua um valor inteiro\n",
    "representando a hora do dia (em formato 24 horas). Verifique se o horário está dentro\n",
    "do período da manhã (das 6h às 12h), da tarde (das 12h às 18h) ou da noite (das 18h\n",
    "às 23h) e imprima a mensagem correspondente."
   ]
  },
  {
   "cell_type": "code",
   "execution_count": 71,
   "metadata": {},
   "outputs": [
    {
     "name": "stdout",
     "output_type": "stream",
     "text": [
      "horário inválido\n",
      "Noite\n"
     ]
    }
   ],
   "source": [
    "horas = int(input('Digite a hora, e em seguida digite os minutos'))\n",
    "minutos = int(input('Digite os minutos'))\n",
    "\n",
    "if horas >= 23 and minutos > 0:\n",
    "    print('horário inválido')\n",
    "else:\n",
    "    print('horário válido')\n",
    "\n",
    "if horas >= 6 and horas < 12:\n",
    "    print('Manhã')\n",
    "elif horas >= 12 and horas < 18:\n",
    "    print('Tarde')\n",
    "elif horas >=18 and horas <= 23:\n",
    "    print('Noite')\n",
    "else:\n",
    "    print('Madrugada')\n"
   ]
  },
  {
   "cell_type": "markdown",
   "metadata": {},
   "source": [
    "### Exercício 07\n",
    "Crie uma variável chamada \"peso\" e atribua um valor numérico a ela.\n",
    "Verifique se o peso está dentro do intervalo de 50 a 100 (inclusive) e imprima a\n",
    "mensagem \"Peso válido\" ou \"Peso inválido\" de acordo com a condição."
   ]
  },
  {
   "cell_type": "code",
   "execution_count": 52,
   "metadata": {},
   "outputs": [
    {
     "name": "stdout",
     "output_type": "stream",
     "text": [
      "peso válido\n"
     ]
    }
   ],
   "source": [
    "peso = float(input('Digite o peso'))\n",
    "\n",
    "if peso >= 50 and peso <= 100:\n",
    "    print('peso válido')\n",
    "else:\n",
    "    print('peso inválido')"
   ]
  },
  {
   "cell_type": "markdown",
   "metadata": {},
   "source": [
    "### Exercício 08\n",
    "Crie uma variável chamada \"numero\" e atribua um valor inteiro a ela.\n",
    "Verifique se o número é múltiplo de 3 e de 5 ao mesmo tempo e imprima a mensagem\n",
    "correspondente."
   ]
  },
  {
   "cell_type": "code",
   "execution_count": 93,
   "metadata": {},
   "outputs": [
    {
     "name": "stdout",
     "output_type": "stream",
     "text": [
      "O numero 15 é mutiplo de 3 e 5.\n"
     ]
    }
   ],
   "source": [
    "numero = int(input('informe o numero'))\n",
    "\n",
    "div01 = numero % 3 and numero % 5\n",
    "\n",
    "if div01 == 0:\n",
    "    print(f'O numero {numero} é mutiplo de 3 e 5.')\n",
    "else:\n",
    "    print(f'O numero {numero} não é multiplo de 3 e 5.')\n"
   ]
  },
  {
   "cell_type": "markdown",
   "metadata": {},
   "source": [
    "### Exercício 09\n",
    "Crie uma variável chamada \"ano\" e atribua um valor inteiro\n",
    "representando um ano. Verifique se o ano é bissexto (divisível por 4, mas não por 100,\n",
    "exceto se for divisível por 400) e imprima a mensagem correspondente."
   ]
  },
  {
   "cell_type": "code",
   "execution_count": 105,
   "metadata": {},
   "outputs": [
    {
     "name": "stdout",
     "output_type": "stream",
     "text": [
      "O ano 2000 é bissexto\n"
     ]
    }
   ],
   "source": [
    "ano = int(input('digite o ano'))\n",
    "\n",
    "if (ano % 4 == 0 and ano % 100 !=0) or (ano % 400 == 0):\n",
    "    print(f'O ano {ano} é bissexto')\n",
    "else:\n",
    "    print(f'O ano {ano} não é bissexto')"
   ]
  },
  {
   "cell_type": "markdown",
   "metadata": {},
   "source": [
    "### Exercício 10\n",
    "Crie uma variável chamada \"salario\" e atribua um valor numérico a ela.\n",
    "Verifique se o salário é maior do que 1000 e menor do que 2000 ao mesmo tempo e\n",
    "imprima a mensagem correspondente."
   ]
  },
  {
   "cell_type": "code",
   "execution_count": 92,
   "metadata": {},
   "outputs": [
    {
     "name": "stdout",
     "output_type": "stream",
     "text": [
      "O salario não é compativél\n"
     ]
    }
   ],
   "source": [
    "salario = float(input('Informe o salario'))\n",
    "\n",
    "if salario >= 1000 and salario <= 2000:\n",
    "    print(\"O salario é compativél\")\n",
    "else:\n",
    "    print(\"O salario não é compativél\")"
   ]
  },
  {
   "cell_type": "markdown",
   "metadata": {},
   "source": [
    "### Exercício 15\n",
    "Faça um programa para a leitura de duas notas parciais de um aluno. O\n",
    "programa deve calcular a média alcançada por aluno e apresentar:\n",
    "\n",
    "• A mensagem \"Aprovado\", se a média alcançada for maior ou igual a sete;\n",
    "\n",
    "• A mensagem \"Reprovado\", se a média for menor do que sete;\n",
    "\n",
    "• A mensagem \"Aprovado com Distinção\", se a média for igual a dez."
   ]
  },
  {
   "cell_type": "code",
   "execution_count": 110,
   "metadata": {},
   "outputs": [
    {
     "name": "stdout",
     "output_type": "stream",
     "text": [
      "Aprovado\n"
     ]
    }
   ],
   "source": [
    "nota01 = float(input('Digite a primeira nota'))\n",
    "nota02 = float(input('Digite a segunda nota'))\n",
    "\n",
    "media01 = (nota01 + nota02) / 2\n",
    "\n",
    "if media01 >= 7 and media01 < 10:\n",
    "    print('Aprovado')\n",
    "elif media01 < 7:\n",
    "    print('Reprovado')\n",
    "elif media01 == 10:\n",
    "    print('Aprovado com distrinção')"
   ]
  },
  {
   "cell_type": "markdown",
   "metadata": {},
   "source": [
    "### Exercício 16\n",
    "Faça um Programa que leia três números e mostre o maior deles."
   ]
  },
  {
   "cell_type": "code",
   "execution_count": 130,
   "metadata": {},
   "outputs": [
    {
     "name": "stdout",
     "output_type": "stream",
     "text": [
      "Todos os valores são igauis\n"
     ]
    }
   ],
   "source": [
    "num1 = float(input('Digite o primeiro valor'))\n",
    "num2 = float(input('Digite o segundo valor'))\n",
    "num3 = float(input('Digite o terceiro valor'))\n",
    "\n",
    "if num1 > num2 and num1 > num3:\n",
    "    print(num1)\n",
    "elif num2 > num1 and num2 > num3:\n",
    "    print(num2)\n",
    "elif num3 > num1 and num3 > num2:\n",
    "    print(num3)\n",
    "else:\n",
    "    print('Todos os valores são igauis')"
   ]
  },
  {
   "cell_type": "markdown",
   "metadata": {},
   "source": [
    "### Exercício 17\n",
    "Faça um Programa que leia três números e mostre o maior e o menor\n",
    "deles."
   ]
  },
  {
   "cell_type": "code",
   "execution_count": 133,
   "metadata": {},
   "outputs": [
    {
     "name": "stdout",
     "output_type": "stream",
     "text": [
      " O maior número é: 3.0\n",
      " O menor número é: 1.0\n"
     ]
    }
   ],
   "source": [
    "num1 = float(input('Digite o primeiro valor'))\n",
    "num2 = float(input('Digite o segundo valor'))\n",
    "num3 = float(input('Digite o terceiro valor'))\n",
    "\n",
    "if num1 > num2 and num1 > num3:\n",
    "    print(f' O maior número é:', num1)\n",
    "elif num2 > num1 and num2 > num3:\n",
    "    print(f' O maior número é:', num2)\n",
    "elif num3 > num1 and num3 > num2:\n",
    "    print(f' O maior número é:', num3)\n",
    "else:\n",
    "    print('Todos os valores são igauis')\n",
    "\n",
    "\n",
    "if num1 < num2 and num1 < num3:\n",
    "    print(f' O menor número é:', num1)\n",
    "elif num2 < num1 and num2 < num3:\n",
    "    print(f' O menor número é:', num2)\n",
    "elif num3 < num1 and num3 < num2:\n",
    "    print(f' O menor número é:', num3)\n",
    "else:\n",
    "    print('Todos os valores são igauis')"
   ]
  },
  {
   "cell_type": "markdown",
   "metadata": {},
   "source": [
    "### Exercício 18\n",
    "Faça um programa que pergunte o preço de três produtos e informe qual\n",
    "produto você deve comprar, sabendo que a decisão é sempre pelo mais barato."
   ]
  },
  {
   "cell_type": "code",
   "execution_count": 1,
   "metadata": {},
   "outputs": [
    {
     "name": "stdout",
     "output_type": "stream",
     "text": [
      "O melhor preço é 1.0\n"
     ]
    }
   ],
   "source": [
    "num1 = float(input('Digite o primeiro valor'))\n",
    "num2 = float(input('Digite o segundo valor'))\n",
    "num3 = float(input('Digite o terceiro valor'))\n",
    "\n",
    "if num1 < num2 and num1 < num3:\n",
    "    print(f'O melhor preço é', num1)\n",
    "elif num2 < num1 and num2 < num3:\n",
    "    print(f'O melhor preço é', num2)\n",
    "elif num3 < num1 and num3 < num2:\n",
    "    print(f'O melhor preço é', num3)\n",
    "else:\n",
    "    print('Todos os valores são igauis')"
   ]
  },
  {
   "cell_type": "markdown",
   "metadata": {},
   "source": [
    "### Exercício 19\n",
    "Faça um Programa que leia três números e mostre-os em ordem\n",
    "decrescente."
   ]
  },
  {
   "cell_type": "code",
   "execution_count": 12,
   "metadata": {},
   "outputs": [
    {
     "name": "stdout",
     "output_type": "stream",
     "text": [
      "3.0 2.0 1.0\n"
     ]
    }
   ],
   "source": [
    "num1 = float(input('Digite o primeiro valor'))\n",
    "num2 = float(input('Digite o segundo valor'))\n",
    "num3 = float(input('Digite o terceiro valor'))\n",
    "\n",
    "if num1 > num2 > num3:\n",
    "    print(num1, num2, num3)\n",
    "elif num1 > num3 > num2:\n",
    "    print(num1, num3, num2)\n",
    "elif num2 > num1 > num3:\n",
    "    print(num2, num1, num3)\n",
    "elif num2 > num3 > num1:\n",
    "    print(num2, num3 , num1)\n",
    "elif num3 > num1 > num2:\n",
    "    print(num3, num1, num2)\n",
    "elif num3 > num2 > num1:\n",
    "    print(num3, num2, num1)"
   ]
  }
 ],
 "metadata": {
  "kernelspec": {
   "display_name": "base",
   "language": "python",
   "name": "python3"
  },
  "language_info": {
   "codemirror_mode": {
    "name": "ipython",
    "version": 3
   },
   "file_extension": ".py",
   "mimetype": "text/x-python",
   "name": "python",
   "nbconvert_exporter": "python",
   "pygments_lexer": "ipython3",
   "version": "3.10.9"
  }
 },
 "nbformat": 4,
 "nbformat_minor": 2
}
