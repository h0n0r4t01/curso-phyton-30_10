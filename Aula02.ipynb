{
 "cells": [
  {
   "cell_type": "markdown",
   "metadata": {},
   "source": [
    "### Estrutura de Decisão IF"
   ]
  },
  {
   "cell_type": "markdown",
   "metadata": {},
   "source": [
    "### Exercício 01\n",
    " Crie uma variável chamada \"idade\" e atribua um valor inteiro a ela.\n",
    "Verifique se a idade é maior ou igual a 18 e imprima \"Maior de idade\" ou \"Menor de\n",
    "idade\" de acordo com a condição."
   ]
  },
  {
   "cell_type": "code",
   "execution_count": 7,
   "metadata": {},
   "outputs": [
    {
     "name": "stdout",
     "output_type": "stream",
     "text": [
      "Maior de idade\n"
     ]
    }
   ],
   "source": [
    "idade = int(input('Digite sua idade'))\n",
    "Maior = 18\n",
    "\n",
    "if idade >= Maior:\n",
    "    print('Maior de idade')\n",
    "else:\n",
    "    print('Menor de idade')\n"
   ]
  },
  {
   "cell_type": "markdown",
   "metadata": {},
   "source": [
    "### Exercício 02\n",
    " Crie uma variável chamada \"número\" e atribua um valor inteiro a ela.\n",
    "Verifique se o número é positivo, negativo ou zero e imprima a mensagem\n",
    "correspondente."
   ]
  },
  {
   "cell_type": "code",
   "execution_count": 4,
   "metadata": {},
   "outputs": [
    {
     "name": "stdout",
     "output_type": "stream",
     "text": [
      "Negativo\n"
     ]
    }
   ],
   "source": [
    "nº = int(input('Digite o valor'))\n",
    "\n",
    "if nº > 0:\n",
    "    print('Positivo')\n",
    "elif nº == 0:\n",
    "    print('Zero')\n",
    "else:\n",
    "    print('Negativo')\n",
    "\n"
   ]
  }
 ],
 "metadata": {
  "kernelspec": {
   "display_name": "base",
   "language": "python",
   "name": "python3"
  },
  "language_info": {
   "codemirror_mode": {
    "name": "ipython",
    "version": 3
   },
   "file_extension": ".py",
   "mimetype": "text/x-python",
   "name": "python",
   "nbconvert_exporter": "python",
   "pygments_lexer": "ipython3",
   "version": "3.10.9"
  }
 },
 "nbformat": 4,
 "nbformat_minor": 2
}
