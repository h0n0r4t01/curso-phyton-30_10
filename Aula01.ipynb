{
 "cells": [
  {
   "cell_type": "markdown",
   "metadata": {},
   "source": [
    "### Palavras reservadas"
   ]
  },
  {
   "cell_type": "code",
   "execution_count": 6,
   "metadata": {},
   "outputs": [
    {
     "name": "stdout",
     "output_type": "stream",
     "text": [
      "['False', 'None', 'True', 'and', 'as', 'assert', 'async', 'await', 'break', 'class', 'continue', 'def', 'del', 'elif', 'else', 'except', 'finally', 'for', 'from', 'global', 'if', 'import', 'in', 'is', 'lambda', 'nonlocal', 'not', 'or', 'pass', 'raise', 'return', 'try', 'while', 'with', 'yield']\n"
     ]
    }
   ],
   "source": [
    "import keyword \n",
    "print(keyword.kwlist) "
   ]
  },
  {
   "cell_type": "markdown",
   "metadata": {},
   "source": [
    "### Exercício 02\n",
    " Crie um programa para receber dois valores e em seguida, exiba o valor\n",
    "da diferença entre eles."
   ]
  },
  {
   "cell_type": "code",
   "execution_count": 48,
   "metadata": {},
   "outputs": [
    {
     "name": "stdout",
     "output_type": "stream",
     "text": [
      "O resultado da subtração é -11\n"
     ]
    }
   ],
   "source": [
    "num1 = 25\n",
    "num2 = 36\n",
    "diferenca = num1 - num2\n",
    "\n",
    "# O comando print apresenta resultados no console\n",
    "print(f'O resultado da subtração é {diferenca}')\n"
   ]
  },
  {
   "cell_type": "markdown",
   "metadata": {},
   "source": [
    "### Exercício 03\n",
    " Crie um programa para receber dois valores e em seguida, exiba o\n",
    "produto entre eles."
   ]
  },
  {
   "cell_type": "code",
   "execution_count": 4,
   "metadata": {},
   "outputs": [
    {
     "name": "stdout",
     "output_type": "stream",
     "text": [
      "<class 'str'>\n",
      "<class 'str'>\n",
      "<class 'float'>\n",
      "<class 'float'>\n",
      "O resultado é: 5000.0\n"
     ]
    }
   ],
   "source": [
    "# Inserindo dados de entrada com o comando INPUT\n",
    "num1 = input('Digite o primeiro valor.')\n",
    "num2 = input('Digite o segundo valor.')\n",
    "\n",
    "# Verificando o tipo de dados\n",
    "print(type(num1))\n",
    "print(type(num2))\n",
    "\n",
    "# Convertendo os valores em DECIMAIS   \n",
    "num1 = float(num1)\n",
    "num2 = float(num2) \n",
    "\n",
    "# Verificando o tipo de dados\n",
    "print(type(num1))\n",
    "print(type(num2))\n",
    "\n",
    "produto = num1 * num2\n",
    "\n",
    "print('O resultado é:', produto)\n",
    "\n"
   ]
  },
  {
   "cell_type": "markdown",
   "metadata": {},
   "source": [
    "### Exercício 16\n",
    " Faça um Programa que peça 2 números inteiros e um número real.\n",
    "Calcule e mostre:\n",
    "\n",
    "a) o produto do dobro do primeiro com metade do segundo.\n",
    "\n",
    "b) a soma do triplo do primeiro com o terceiro.\n",
    "\n",
    "c) o terceiro elevado ao cubo."
   ]
  },
  {
   "cell_type": "code",
   "execution_count": 11,
   "metadata": {},
   "outputs": [
    {
     "name": "stdout",
     "output_type": "stream",
     "text": [
      "Alternativa A: 1.0\n",
      "Alternativa B: 4.0\n",
      "Alternativa C: 1.0\n"
     ]
    }
   ],
   "source": [
    "# Recebendo valores e convertendo\n",
    "num1 = int(input('Digite o primeiro valor.'))\n",
    "num2 = int(input('Digite o primeiro valor.'))\n",
    "num3 = float(input('Digite o primeiro valor.'))\n",
    "\n",
    "# Calculando o produto do dobro do primeiro com a metade do segundo\n",
    "\n",
    "questaoA = (num1 * 2) * (num2 / 2) \n",
    "\n",
    "print('Alternativa A:', questaoA)\n",
    "\n",
    "# Recebendo valores e convertendo\n",
    "num1 = int(input('Digite o primeiro valor.'))\n",
    "num2 = int(input('Digite o primeiro valor.'))\n",
    "num3 = float(input('Digite o primeiro valor.'))\n",
    "\n",
    "# Calculando a soma do triplo do primeiro com o terceiro\n",
    "\n",
    "questaoB = (num1*3)+num3\n",
    "\n",
    "print('Alternativa B:', questaoB)\n",
    "\n",
    "# O terceiro elevado ao cubo.\n",
    "\n",
    "questaoC = num3 ** 3\n",
    "print('Alternativa C:', questaoC)"
   ]
  },
  {
   "cell_type": "markdown",
   "metadata": {},
   "source": [
    "### Exercício 17\n",
    " João Papo-de-Pescador, homem de bem, comprou um microcomputador\n",
    "para controlar o rendimento diário de seu trabalho. Toda vez que ele traz um peso de\n",
    "peixes maior que o estabelecido pelo regulamento de pesca do estado de São Paulo\n",
    "(50 quilos) deve pagar uma multa de R$ 4,00 por quilo excedente. João precisa que\n",
    "você faça um programa que leia a variável peso (peso de peixes) e calcule o excesso.\n",
    "Gravar na variável excesso a quantidade de quilos além do limite e na variável multa o\n",
    "valor da multa que João deverá pagar. Imprima os dados do programa com as\n",
    "mensagens adequadas."
   ]
  },
  {
   "cell_type": "code",
   "execution_count": 30,
   "metadata": {},
   "outputs": [
    {
     "name": "stdout",
     "output_type": "stream",
     "text": [
      "O peso total é 60.0 kg, o excendente é de 10.0 kg, portanto a multa é de R$ 40.0\n"
     ]
    }
   ],
   "source": [
    "regulamento = 50\n",
    "VDM = 4\n",
    "peso = float(input('Digite o peso dos peixes.'))\n",
    "\n",
    "excesso = (peso - regulamento)\n",
    "\n",
    "Multa = excesso * VDM\n",
    "\n",
    "print(f'O peso total é {peso} kg, o excendente é de {excesso} kg, portanto a multa é de R$ {Multa}')"
   ]
  },
  {
   "cell_type": "markdown",
   "metadata": {},
   "source": [
    "### Exercício 18\n",
    " Faça um Programa que pergunte quanto você ganha por hora e o número\n",
    "de horas trabalhadas no mês. Calcule e mostre o total do seu salário no referido mês,\n",
    "sabendo-se que são descontados 11% para o Imposto de Renda, 8% para o INSS e 5%\n",
    "para o sindicato, faça um programa que nos dê:\n",
    "a) salário bruto.\n",
    "b) quanto pagou ao INSS.\n",
    "c) quanto pagou ao sindicato.\n",
    "d) o salário líquido.\n",
    "e) calcule os descontos e o salário líquido, conforme a tabela abaixo:\n",
    "+ Salário Bruto : R$\n",
    "- IR (11%) : R$\n",
    "- INSS (8%) : R$\n",
    "- Sindicato ( 5%) : R$\n",
    "- Salário Liquido : R$\n"
   ]
  },
  {
   "cell_type": "code",
   "execution_count": 44,
   "metadata": {},
   "outputs": [
    {
     "name": "stdout",
     "output_type": "stream",
     "text": [
      "+ Salrio bruto: R$ 3080.0\n",
      "- IR (11%): R$ 338.8\n",
      "- INSS (8%): R$ 246.4\n",
      "- Sindicato (5%): R$ 154.0\n",
      "= Salario Liquido: R$ 2340.7999999999997\n"
     ]
    }
   ],
   "source": [
    "# Inserindo o valor por hora e horas trabalhas\n",
    "\n",
    "HTM = float(input('Digite a quantidades de horas trabalhadas'))\n",
    "VHT = float(input('Digite o valor da hora trabalhada'))\n",
    "IR = 0.11\n",
    "INSS = 0.08\n",
    "Sind = 0.05\n",
    "\n",
    "# Calculos\n",
    "SalarioBruto = (HTM * VHT)\n",
    "print('+ Salrio bruto: R$', SalarioBruto)\n",
    "\n",
    "Imposto_de_renda = float(SalarioBruto*IR)\n",
    "print('- IR (11%): R$', Imposto_de_renda)\n",
    "\n",
    "Inss = float(SalarioBruto*INSS)\n",
    "print('- INSS (8%): R$', Inss)\n",
    "\n",
    "Sindicato = float(SalarioBruto*Sind)\n",
    "print('- Sindicato (5%): R$', Sindicato)\n",
    "\n",
    "SalarioLiquido = (SalarioBruto-Imposto_de_renda-Inss-Sindicato)\n",
    "print('= Salario Liquido: R$', SalarioLiquido)"
   ]
  },
  {
   "cell_type": "markdown",
   "metadata": {},
   "source": [
    "### Exercício 19\n",
    " Faça um programa para uma loja de tintas. O programa deverá pedir o\n",
    "tamanho em metros quadrados da área a ser pintada. Considere que a cobertura da\n",
    "tinta é de 1 litro para cada 3 metros quadrados e que a tinta é vendida em latas de 18\n",
    "litros, que custam R$ 80,00. Informe ao usuário a quantidades de latas de tinta a serem\n",
    "compradas e o preço total."
   ]
  },
  {
   "cell_type": "code",
   "execution_count": 59,
   "metadata": {},
   "outputs": [
    {
     "name": "stdout",
     "output_type": "stream",
     "text": [
      "Para pintar uma área de 50.0 m², serão necessarias 1 latas de tinta que custará R$ 80\n"
     ]
    }
   ],
   "source": [
    "# Importar a biblioteca math para utilizar a função ceil\n",
    "import math \n",
    "\n",
    "# Valores\n",
    "\n",
    "M2 = float(input('Digite o total de metros quadrados'))\n",
    "Lata = 18\n",
    "VL = 80\n",
    "\n",
    "\n",
    "# Calculos\n",
    "Quant_Lata = math.ceil((M2/3)/18)\n",
    "\n",
    "Total = math.ceil(Quant_Lata*VL)\n",
    "\n",
    "print(f'Para pintar uma área de {M2} m², serão necessarias {Quant_Lata} latas de tinta que custará R$ {Total}')\n"
   ]
  }
 ],
 "metadata": {
  "kernelspec": {
   "display_name": "base",
   "language": "python",
   "name": "python3"
  },
  "language_info": {
   "name": "python",
   "version": "3.10.9"
  }
 },
 "nbformat": 4,
 "nbformat_minor": 2
}
