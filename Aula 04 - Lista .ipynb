{
 "cells": [
  {
   "cell_type": "markdown",
   "metadata": {},
   "source": [
    "### Exercício 01\n",
    "Crie uma lista com nomes de 4 times de futebol.\n",
    "\n",
    "a) Palmeiras\n",
    "\n",
    "b) São Paulo\n",
    "\n",
    "c) Santos\n",
    "\n",
    "d) Água Santa\n",
    "\n",
    "e) Acesse o time que está na 3a posição.\n"
   ]
  },
  {
   "cell_type": "code",
   "execution_count": 4,
   "metadata": {},
   "outputs": [
    {
     "name": "stdout",
     "output_type": "stream",
     "text": [
      "Santos\n"
     ]
    }
   ],
   "source": [
    "Times = ['Palmeiras','São Paulo','Santos','Água Santa']\n",
    "print(Times[2])"
   ]
  },
  {
   "cell_type": "markdown",
   "metadata": {},
   "source": [
    "f) Crie uma lista com duas listas de 3 times de futebol, cada uma de uma \n",
    "divisão diferente."
   ]
  },
  {
   "cell_type": "code",
   "execution_count": 8,
   "metadata": {},
   "outputs": [
    {
     "name": "stdout",
     "output_type": "stream",
     "text": [
      "São Paulo\n"
     ]
    }
   ],
   "source": [
    "Times_A = ['São Caetano', 'Palmeiras', 'Coritiba', 'Sport']\n",
    "Times_D = ['Corinthians','Atlético Mg', 'Santos', 'São Paulo']\n",
    "Lista_Times = [Times_A , Times_D]\n",
    "\n",
    "print(Lista_Times[1][2])"
   ]
  },
  {
   "cell_type": "markdown",
   "metadata": {},
   "source": [
    "### Exercício 02\n",
    "Crie uma lista com 3 diferentes moedas. Acrescente mais 2 \n",
    "outras moedas à essa mesma lista."
   ]
  },
  {
   "cell_type": "code",
   "execution_count": 19,
   "metadata": {},
   "outputs": [
    {
     "name": "stdout",
     "output_type": "stream",
     "text": [
      "['Real', 'Dolar', 'Euro', 'kwanzas', 'Libras']\n"
     ]
    }
   ],
   "source": [
    "moedas = ['Real','Dolar','Euro']\n",
    "\n",
    "# Adiciona a lista\n",
    "moedas.append('Libras')\n",
    "moedas.append('Pesos')\n",
    "\n",
    "# Adiciona a posição especifica da lista\n",
    "moedas.insert(3, 'kwanzas')\n",
    "\n",
    "# Excluir um elemento\n",
    "moedas.remove('Pesos')\n",
    "\n",
    "print(moedas)"
   ]
  },
  {
   "cell_type": "markdown",
   "metadata": {},
   "source": [
    "### Lista (list) – Conversão para string\n",
    "\n",
    "Para converte uma lista em STRING, nós utilizamos o comando JOIN"
   ]
  },
  {
   "cell_type": "code",
   "execution_count": 6,
   "metadata": {},
   "outputs": [
    {
     "name": "stdout",
     "output_type": "stream",
     "text": [
      "Batata - Óleo - Margarina - Café\n",
      "<class 'str'>\n"
     ]
    }
   ],
   "source": [
    "supermercado = ['Batata', 'Óleo', 'Margarina', 'Café']\n",
    "\n",
    "listaconvertida = ' - '.join(supermercado)\n",
    "\n",
    "print(listaconvertida)\n",
    "print(type(listaconvertida))"
   ]
  },
  {
   "cell_type": "markdown",
   "metadata": {},
   "source": [
    "### Lista (list) - string para lista"
   ]
  },
  {
   "cell_type": "code",
   "execution_count": 8,
   "metadata": {},
   "outputs": [
    {
     "name": "stdout",
     "output_type": "stream",
     "text": [
      "['Batata - Óleo - Margarina - Café']\n",
      "<class 'list'>\n"
     ]
    }
   ],
   "source": [
    "lista = listaconvertida.split(';')\n",
    "print(lista)\n",
    "print(type(lista))"
   ]
  },
  {
   "cell_type": "markdown",
   "metadata": {},
   "source": [
    "### Exercício 03\n",
    "Crie uma string com a lista do exercício anterior."
   ]
  },
  {
   "cell_type": "code",
   "execution_count": 11,
   "metadata": {},
   "outputs": [
    {
     "name": "stdout",
     "output_type": "stream",
     "text": [
      "Real, Dolar, Euro\n",
      "<class 'str'>\n"
     ]
    }
   ],
   "source": [
    "moedas = ['Real','Dolar','Euro']\n",
    "moedas01 = ', '.join(moedas)\n",
    "\n",
    "print(moedas01)\n",
    "print(type(moedas01))"
   ]
  },
  {
   "cell_type": "markdown",
   "metadata": {},
   "source": [
    "### Exercício 04\n",
    "Agora utilize a string do exercício 3 para recriar uma lista."
   ]
  },
  {
   "cell_type": "code",
   "execution_count": 13,
   "metadata": {},
   "outputs": [
    {
     "name": "stdout",
     "output_type": "stream",
     "text": [
      "['Real', 'Dolar', 'Euro']\n",
      "<class 'list'>\n"
     ]
    }
   ],
   "source": [
    "moedas02 = moedas01.split(', ')\n",
    "\n",
    "print(moedas02)\n",
    "print(type(moedas02))"
   ]
  },
  {
   "cell_type": "markdown",
   "metadata": {},
   "source": [
    "#### Tuplas (tuple)\n",
    "\n",
    "- Criamos utilizando parentes\n",
    "- Separamos os elementos por virgula\n",
    "- Após sua definição não podemos alterar sua estrutura"
   ]
  },
  {
   "cell_type": "code",
   "execution_count": 14,
   "metadata": {},
   "outputs": [
    {
     "name": "stdout",
     "output_type": "stream",
     "text": [
      "<class 'tuple'>\n",
      "<class 'tuple'>\n"
     ]
    }
   ],
   "source": [
    "valores = (90, 79, 54, 32, 21)\n",
    "pontos = (100, 94.05, 86.08, 62)\n",
    "\n",
    "print(type(valores))\n",
    "print(type(pontos))"
   ]
  },
  {
   "cell_type": "markdown",
   "metadata": {},
   "source": [
    "### Tuplas (tuple) - Outros Exemplos"
   ]
  },
  {
   "cell_type": "code",
   "execution_count": 19,
   "metadata": {},
   "outputs": [
    {
     "name": "stdout",
     "output_type": "stream",
     "text": [
      "[10, 2]\n",
      "Não é possivel modificar uma tupla\n"
     ]
    }
   ],
   "source": [
    "my_list = [1,2]\n",
    "my_tuple = (1,2)\n",
    "\n",
    "# Alterando o elemento de posição da lista\n",
    "my_list[0] = 10\n",
    "print(my_list)\n",
    "\n",
    "# Alterar um elemento de uma tupla\n",
    "try:\n",
    "    my_tuple[1] = 3\n",
    "except TypeError: \n",
    "    print('Não é possivel modificar uma tupla')"
   ]
  },
  {
   "cell_type": "markdown",
   "metadata": {},
   "source": [
    "### Criando uma função com tuplas"
   ]
  },
  {
   "cell_type": "code",
   "execution_count": 20,
   "metadata": {},
   "outputs": [],
   "source": [
    "def sum_and_product (X, Y):\n",
    "    return (X + Y), (X * Y)\n",
    "    "
   ]
  },
  {
   "cell_type": "code",
   "execution_count": 22,
   "metadata": {},
   "outputs": [
    {
     "data": {
      "text/plain": [
       "tuple"
      ]
     },
     "execution_count": 22,
     "metadata": {},
     "output_type": "execute_result"
    }
   ],
   "source": [
    "type(sum_and_product(10,5))"
   ]
  },
  {
   "cell_type": "markdown",
   "metadata": {},
   "source": [
    "### Dicionários (dict)\n",
    "Dict é um tipo de dado muito flexível do Python.\n",
    "Eles são utilizados para agrupar elementos através da estrutura de chave e valor,\n",
    "onde a chave é o primeiro elemento seguido por dois pontos e pelo valor.\n",
    "Vamos ver alguns exemplos:"
   ]
  },
  {
   "cell_type": "code",
   "execution_count": 23,
   "metadata": {},
   "outputs": [
    {
     "name": "stdout",
     "output_type": "stream",
     "text": [
      "<class 'dict'>\n",
      "<class 'dict'>\n"
     ]
    }
   ],
   "source": [
    "altura = {'Amanda':1.65, 'Ana':1.60, 'João':1.50} \n",
    "peso = {'Amanda':60, 'Ana':58, 'João':100}\n",
    "\n",
    "print(type(altura))\n",
    "print(type(peso))\n"
   ]
  },
  {
   "cell_type": "code",
   "execution_count": 30,
   "metadata": {},
   "outputs": [
    {
     "name": "stdout",
     "output_type": "stream",
     "text": [
      "1.65\n",
      "60\n"
     ]
    }
   ],
   "source": [
    "print(altura['Amanda'])\n",
    "print(peso['Amanda'])"
   ]
  },
  {
   "cell_type": "markdown",
   "metadata": {},
   "source": [
    "#### Exercício 05\n",
    "Crie um dicionário chamado cardápio em que as chaves são os \n",
    "dias da semana e os respectivos valores sejam os pratos do dia."
   ]
  },
  {
   "cell_type": "code",
   "execution_count": 35,
   "metadata": {},
   "outputs": [
    {
     "name": "stdout",
     "output_type": "stream",
     "text": [
      "{'Segunda-Feira': 'Virada Paulista', 'Terça-Feira': 'Omelete', 'Quarta-Feira': 'Feijoada', 'Quinta-Feira': 'Costela', 'Sexta-Feira': 'Macarronada'}\n"
     ]
    }
   ],
   "source": [
    "cardapio = {'Segunda-Feira': 'Virada Paulista', 'Terça-Feira': 'Omelete', 'Quarta-Feira': 'Feijoada', 'Quinta-Feira': 'Costela', 'Sexta-Feira': 'Macarronada'}\n",
    "print(cardapio)"
   ]
  },
  {
   "cell_type": "markdown",
   "metadata": {},
   "source": [
    "### Exercício 06\n",
    "Crie um dicionário chamado hemograma que contenha as \n",
    "seguintes chaves:valor"
   ]
  },
  {
   "cell_type": "code",
   "execution_count": 34,
   "metadata": {},
   "outputs": [
    {
     "name": "stdout",
     "output_type": "stream",
     "text": [
      "{'Hemacias': 4.71, 'Hemoglobina': 14.1, 'Hemotocrito': 41.2, 'Linfócitos': 38, 'Monocitos': 7, 'Resultado': 'Saudável'}\n"
     ]
    }
   ],
   "source": [
    "hemograma = {'Hemacias': 4.71, 'Hemoglobina': 14.1, 'Hemotocrito': 41.2, 'Linfócitos': 38, 'Monocitos': 7, 'Resultado':'Saudável'}\n",
    "print(hemograma)"
   ]
  },
  {
   "cell_type": "markdown",
   "metadata": {},
   "source": [
    "### Exercício 07\n",
    "Corrija o dicionário acima com monocitos:12."
   ]
  },
  {
   "cell_type": "code",
   "execution_count": 39,
   "metadata": {},
   "outputs": [
    {
     "name": "stdout",
     "output_type": "stream",
     "text": [
      "{'Hemacias': 4.71, 'Hemoglobina': 14.1, 'Hemotocrito': 41.2, 'Linfócitos': 38, 'Monocitos': 10, 'Resultado': 'Saudável'}\n"
     ]
    }
   ],
   "source": [
    "hemograma['Monocitos']=10\n",
    "print(hemograma)"
   ]
  }
 ],
 "metadata": {
  "kernelspec": {
   "display_name": "base",
   "language": "python",
   "name": "python3"
  },
  "language_info": {
   "codemirror_mode": {
    "name": "ipython",
    "version": 3
   },
   "file_extension": ".py",
   "mimetype": "text/x-python",
   "name": "python",
   "nbconvert_exporter": "python",
   "pygments_lexer": "ipython3",
   "version": "3.10.9"
  }
 },
 "nbformat": 4,
 "nbformat_minor": 2
}
